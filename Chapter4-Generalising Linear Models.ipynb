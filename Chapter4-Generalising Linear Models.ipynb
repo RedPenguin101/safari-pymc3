{
 "cells": [
  {
   "cell_type": "markdown",
   "metadata": {},
   "source": [
    "# Chapter 4: Generalising Linear Models\n",
    "\n",
    "C3: we used a linear combo of input vars to predict the mean of output var. We assumed the mean was Gaussian distributed.\n",
    "\n",
    "Some times this isn't appropriate. This chapter looks at those circumstances.\n",
    "\n",
    "Sections in this chapter:\n",
    "* Generalised LM\n",
    "* Logistic Regression (LR), inverse link funcs\n",
    "* Simple LR\n",
    "* Multiple LR\n",
    "* Softmax\n",
    "* Multinomial LR\n",
    "* Poisson Regression (PR)\n",
    "* Zero inflated PR"
   ]
  },
  {
   "cell_type": "code",
   "execution_count": null,
   "metadata": {},
   "outputs": [],
   "source": []
  }
 ],
 "metadata": {
  "kernelspec": {
   "display_name": "Python 3",
   "language": "python",
   "name": "python3"
  },
  "language_info": {
   "codemirror_mode": {
    "name": "ipython",
    "version": 3
   },
   "file_extension": ".py",
   "mimetype": "text/x-python",
   "name": "python",
   "nbconvert_exporter": "python",
   "pygments_lexer": "ipython3",
   "version": "3.7.2"
  }
 },
 "nbformat": 4,
 "nbformat_minor": 2
}
